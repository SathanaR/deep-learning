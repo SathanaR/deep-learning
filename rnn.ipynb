{
 "cells": [
  {
   "cell_type": "code",
   "execution_count": 33,
   "id": "47d73736",
   "metadata": {},
   "outputs": [],
   "source": [
    "from tensorflow.keras.datasets import imdb\n",
    "import matplotlib.pyplot as plt\n",
    "from keras.models import Sequential\n",
    "from tensorflow.keras import layers\n",
    "import numpy as np\n",
    "import tensorflow as tf\n",
    "from tensorflow.keras.preprocessing import sequence        "
   ]
  },
  {
   "cell_type": "code",
   "execution_count": 6,
   "id": "99046bb8",
   "metadata": {},
   "outputs": [],
   "source": [
    "(train_words,train_label),(test_words,test_label)=imdb.load_data(num_words=10000)#10000 is feature ie 10000 most occured word"
   ]
  },
  {
   "cell_type": "code",
   "execution_count": 7,
   "id": "f822dbe5",
   "metadata": {},
   "outputs": [],
   "source": [
    "wordindex=imdb.get_word_index()"
   ]
  },
  {
   "cell_type": "code",
   "execution_count": 8,
   "id": "78b6912a",
   "metadata": {},
   "outputs": [
    {
     "ename": "AttributeError",
     "evalue": "'dict' object has no attribute 'dtype'",
     "output_type": "error",
     "traceback": [
      "\u001b[1;31m---------------------------------------------------------------------------\u001b[0m",
      "\u001b[1;31mAttributeError\u001b[0m                            Traceback (most recent call last)",
      "\u001b[1;32m~\\AppData\\Local\\Temp/ipykernel_16432/1532244668.py\u001b[0m in \u001b[0;36m<module>\u001b[1;34m\u001b[0m\n\u001b[1;32m----> 1\u001b[1;33m \u001b[0mwordindex\u001b[0m\u001b[1;33m.\u001b[0m\u001b[0mdtype\u001b[0m\u001b[1;33m(\u001b[0m\u001b[1;33m)\u001b[0m\u001b[1;33m\u001b[0m\u001b[1;33m\u001b[0m\u001b[0m\n\u001b[0m",
      "\u001b[1;31mAttributeError\u001b[0m: 'dict' object has no attribute 'dtype'"
     ]
    }
   ],
   "source": [
    "wordindex.dtype()"
   ]
  },
  {
   "cell_type": "code",
   "execution_count": 9,
   "id": "bb91cb9f",
   "metadata": {},
   "outputs": [
    {
     "name": "stdout",
     "output_type": "stream",
     "text": [
      "1\n",
      "the\n"
     ]
    }
   ],
   "source": [
    "n=int(input())\n",
    "for keys,values in wordindex.items():\n",
    "    if (values==n):\n",
    "        print(keys)"
   ]
  },
  {
   "cell_type": "code",
   "execution_count": 10,
   "id": "9b1e4c4b",
   "metadata": {},
   "outputs": [],
   "source": [
    "#24,17,16,22,1,\n",
    "#his movie with the"
   ]
  },
  {
   "cell_type": "code",
   "execution_count": 12,
   "id": "c73cae9c",
   "metadata": {},
   "outputs": [],
   "source": [
    "reversedwordindex={value:key for key,value in wordindex.items()}"
   ]
  },
  {
   "cell_type": "code",
   "execution_count": 16,
   "id": "06c72257",
   "metadata": {},
   "outputs": [
    {
     "data": {
      "text/plain": [
       "\"deltoro's\""
      ]
     },
     "execution_count": 16,
     "metadata": {},
     "output_type": "execute_result"
    }
   ],
   "source": [
    "reversedwordindex[75894]"
   ]
  },
  {
   "cell_type": "code",
   "execution_count": 17,
   "id": "12d0bda1",
   "metadata": {},
   "outputs": [
    {
     "data": {
      "text/plain": [
       "'unacknowledged'"
      ]
     },
     "execution_count": 17,
     "metadata": {},
     "output_type": "execute_result"
    }
   ],
   "source": [
    "reversedwordindex[48701]#the numer given inside is keys"
   ]
  },
  {
   "cell_type": "code",
   "execution_count": 27,
   "id": "70bb55be",
   "metadata": {},
   "outputs": [],
   "source": [
    "#l=[]\n",
    "#for i in train_words[0]:\n",
    "#    a=reversedwordindex[i]\n",
    "  #  l.append(a)\n",
    "#print(' '.join(l))'''''''"
   ]
  },
  {
   "cell_type": "code",
   "execution_count": 28,
   "id": "5acb84ae",
   "metadata": {},
   "outputs": [
    {
     "data": {
      "text/plain": [
       "\"the as you with out themselves powerful lets loves their becomes reaching had journalist of lot from anyone to have after out atmosphere never more room and it so heart shows to years of every never going and help moments or of every chest visual movie except her was several of enough more with is now current film as you of mine potentially unfortunately of you than him that with out themselves her get for was camp of you movie sometimes movie that with scary but and to story wonderful that in seeing in character to of 70s musicians with heart had shadows they of here that with her serious to have does when from why what have critics they is you that isn't one will very to as itself with other and in of seen over landed for anyone of and br show's to whether from than out themselves history he name half some br of and odd was two most of mean for 1 any an boat she he should is thought frog but of script you not while history he heart to real at barrel but when from one bit then have two of script their with her nobody most that with wasn't to with armed acting watch an for with heartfelt film want an\""
      ]
     },
     "execution_count": 28,
     "metadata": {},
     "output_type": "execute_result"
    }
   ],
   "source": [
    "' '.join([reversedwordindex[i] for i in train_words[0]])"
   ]
  },
  {
   "cell_type": "code",
   "execution_count": 30,
   "id": "33e935e1",
   "metadata": {},
   "outputs": [
    {
     "data": {
      "text/plain": [
       "1"
      ]
     },
     "execution_count": 30,
     "metadata": {},
     "output_type": "execute_result"
    }
   ],
   "source": [
    "train_label[0]"
   ]
  },
  {
   "cell_type": "code",
   "execution_count": 38,
   "id": "9ee330d2",
   "metadata": {},
   "outputs": [
    {
     "data": {
      "text/plain": [
       "(25000, 500)"
      ]
     },
     "execution_count": 38,
     "metadata": {},
     "output_type": "execute_result"
    }
   ],
   "source": [
    "train_words.shape"
   ]
  },
  {
   "cell_type": "code",
   "execution_count": 36,
   "id": "6584368e",
   "metadata": {},
   "outputs": [],
   "source": [
    "#since 25000 is  a big data we are using pad to reduce it ie truncating ie getting the features to be same\n",
    "train_words=sequence.pad_sequences(train_words,maxlen=500)"
   ]
  },
  {
   "cell_type": "code",
   "execution_count": 37,
   "id": "c7bfc7da",
   "metadata": {},
   "outputs": [],
   "source": [
    "test_words=sequence.pad_sequences(test_words,maxlen=500)"
   ]
  },
  {
   "cell_type": "code",
   "execution_count": 60,
   "id": "d9a86726",
   "metadata": {},
   "outputs": [],
   "source": [
    "model = Sequential()\n",
    "model.add(layers.Embedding(10000,32))#connecting the word ie reveiw and  the labels like link\n",
    "model.add(layers.SimpleRNN(32))\n",
    "model.add(layers.Dense(1,activation=\"sigmoid\"))\n",
    "model.compile(loss=\"BinaryCrossentropy\",optimizer = \"adam\",metrics=[\"accuracy\"])"
   ]
  },
  {
   "cell_type": "code",
   "execution_count": 62,
   "id": "9df981e4",
   "metadata": {},
   "outputs": [
    {
     "name": "stdout",
     "output_type": "stream",
     "text": [
      "Epoch 1/2\n",
      "782/782 [==============================] - 169s 217ms/step - loss: 0.5201 - accuracy: 0.7512\n",
      "Epoch 2/2\n",
      "782/782 [==============================] - 166s 212ms/step - loss: 0.4098 - accuracy: 0.8222\n"
     ]
    },
    {
     "data": {
      "text/plain": [
       "<keras.callbacks.History at 0x1f4517d8d60>"
      ]
     },
     "execution_count": 62,
     "metadata": {},
     "output_type": "execute_result"
    }
   ],
   "source": [
    "model.fit(train_words,train_label,epochs=2)"
   ]
  },
  {
   "cell_type": "code",
   "execution_count": 63,
   "id": "a52ae41d",
   "metadata": {},
   "outputs": [
    {
     "name": "stdout",
     "output_type": "stream",
     "text": [
      "782/782 [==============================] - 42s 53ms/step - loss: 0.3170 - accuracy: 0.8754\n"
     ]
    },
    {
     "data": {
      "text/plain": [
       "[0.31700557470321655, 0.8754000067710876]"
      ]
     },
     "execution_count": 63,
     "metadata": {},
     "output_type": "execute_result"
    }
   ],
   "source": [
    "model.evaluate(train_words,train_label)"
   ]
  },
  {
   "cell_type": "code",
   "execution_count": null,
   "id": "fec2fad0",
   "metadata": {},
   "outputs": [],
   "source": []
  }
 ],
 "metadata": {
  "kernelspec": {
   "display_name": "Python 3 (ipykernel)",
   "language": "python",
   "name": "python3"
  },
  "language_info": {
   "codemirror_mode": {
    "name": "ipython",
    "version": 3
   },
   "file_extension": ".py",
   "mimetype": "text/x-python",
   "name": "python",
   "nbconvert_exporter": "python",
   "pygments_lexer": "ipython3",
   "version": "3.9.7"
  }
 },
 "nbformat": 4,
 "nbformat_minor": 5
}
